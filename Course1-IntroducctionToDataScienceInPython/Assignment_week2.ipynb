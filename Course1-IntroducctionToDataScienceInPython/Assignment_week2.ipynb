{
  "nbformat": 4,
  "nbformat_minor": 0,
  "metadata": {
    "colab": {
      "name": "Assignment+2.ipynb",
      "version": "0.3.2",
      "provenance": [],
      "collapsed_sections": [],
      "toc_visible": true
    },
    "language_info": {
      "codemirror_mode": {
        "name": "ipython",
        "version": 3
      },
      "file_extension": ".py",
      "mimetype": "text/x-python",
      "name": "python",
      "nbconvert_exporter": "python",
      "pygments_lexer": "ipython3",
      "version": "3.6.2"
    },
    "kernelspec": {
      "display_name": "Python 3",
      "language": "python",
      "name": "python3"
    }
  },
  "cells": [
    {
      "cell_type": "markdown",
      "metadata": {
        "id": "I1D8nqAZVxGE",
        "colab_type": "text"
      },
      "source": [
        "# Assignment 2 - Pandas Introduction\n",
        "All questions are weighted the same in this assignment.\n",
        "## Part 1\n",
        "The following code loads the olympics dataset (olympics.csv), which was derrived from the Wikipedia entry on [All Time Olympic Games Medals](https://en.wikipedia.org/wiki/All-time_Olympic_Games_medal_table), and does some basic data cleaning. \n",
        "\n",
        "The columns are organized as # of Summer games, Summer medals, # of Winter games, Winter medals, total # number of games, total # of medals. Use this dataset to answer the questions below."
      ]
    },
    {
      "cell_type": "code",
      "metadata": {
        "nbgrader": {
          "grade": false,
          "grade_id": "1",
          "locked": false,
          "solution": false
        },
        "umich_question": "prolog-000",
        "id": "jOimZLEMVxGM",
        "colab_type": "code",
        "colab": {}
      },
      "source": [
        "#Import pandas package\n",
        "import pandas as pd\n",
        "\n",
        "#Generate DataFrame from csv file. Setting skip first row and start index on 0\n",
        "df = pd.read_csv('olympics.csv', index_col=0, skiprows=1)\n",
        "\n",
        "#Change all column names depending on its name. Do it in the same variable\n",
        "for col in df.columns:\n",
        "    if col[:2]=='01':\n",
        "        df.rename(columns={col:'Gold'+col[4:]}, inplace=True)\n",
        "    if col[:2]=='02':\n",
        "        df.rename(columns={col:'Silver'+col[4:]}, inplace=True)\n",
        "    if col[:2]=='03':\n",
        "        df.rename(columns={col:'Bronze'+col[4:]}, inplace=True)\n",
        "    if col[:1]=='№':\n",
        "        df.rename(columns={col:'#'+col[1:]}, inplace=True)\n",
        "\n",
        "#Get de ids by splitting the index by '('        \n",
        "names_ids = df.index.str.split('\\s\\(') \n",
        "\n",
        "#The element[0] is the country name, so the new index\n",
        "df.index = names_ids.str[0]\n",
        "#The element[1] is the abbreviation or ID (take first 3 characters from that)\n",
        "df['ID'] = names_ids.str[1].str[:3] \n",
        "\n",
        "#Drop ccolumn\n",
        "df = df.drop('Totals')\n",
        "df.head()"
      ],
      "execution_count": 0,
      "outputs": []
    },
    {
      "cell_type": "markdown",
      "metadata": {
        "id": "Y18cAydqVxGd",
        "colab_type": "text"
      },
      "source": [
        "### Question 0 (Example)\n",
        "\n",
        "What is the first country in df?\n",
        "\n",
        "*This function should return a Series.*"
      ]
    },
    {
      "cell_type": "code",
      "metadata": {
        "umich_question": "000",
        "id": "q7tMHzEhVxGf",
        "colab_type": "code",
        "colab": {}
      },
      "source": [
        "# You should write your whole answer within the function provided. The autograder will call\n",
        "# this function and compare the return value against the correct solution value\n",
        "def answer_zero():\n",
        "    # This function returns the row for Afghanistan, which is a Series object. The assignment\n",
        "    # question description will tell you the general format the autograder is expecting\n",
        "    return df.iloc[0]\n",
        "\n",
        "# You can examine what your function returns by calling it in the cell. If you have questions\n",
        "# about the assignment formats, check out the discussion forums for any FAQs\n",
        "answer_zero() "
      ],
      "execution_count": 0,
      "outputs": []
    },
    {
      "cell_type": "markdown",
      "metadata": {
        "id": "qoZ53pEKVxGq",
        "colab_type": "text"
      },
      "source": [
        "### Question 1\n",
        "Which country has won the most gold medals in summer games?\n",
        "\n",
        "*This function should return a single string value.*"
      ]
    },
    {
      "cell_type": "code",
      "metadata": {
        "nbgrader": {
          "grade": false,
          "locked": false,
          "solution": false
        },
        "scrolled": true,
        "umich_part_id": "001",
        "umich_partlist_id": "001",
        "id": "MBAddPxlVxGt",
        "colab_type": "code",
        "colab": {}
      },
      "source": [
        "def answer_one():\n",
        "  #Sort the DataFrame by 'Gold' column and get the first element (the highest)\n",
        "  ordered = df.sort('Gold', ascending=False)\n",
        "  ordered['Name'] = ordered.index\n",
        "  return ordered['Name'].iloc[0]\n",
        "\n",
        "answer_one()"
      ],
      "execution_count": 0,
      "outputs": []
    },
    {
      "cell_type": "markdown",
      "metadata": {
        "id": "fY0-w8jEVxG1",
        "colab_type": "text"
      },
      "source": [
        "### Question 2\n",
        "Which country had the biggest difference between their summer and winter gold medal counts?\n",
        "\n",
        "*This function should return a single string value.*"
      ]
    },
    {
      "cell_type": "code",
      "metadata": {
        "umich_part_id": "002",
        "umich_partlist_id": "001",
        "id": "KQd51VkLVxG3",
        "colab_type": "code",
        "colab": {}
      },
      "source": [
        "def answer_two():\n",
        "  #Get the difference between columns and get the absolute value to short it\n",
        "  df['Difference'] = (df['Gold'] - df['Gold.1']).abs()\n",
        "  #Sort the df and get the first element\n",
        "  ordered = df.sort('Difference',ascending=False)\n",
        "  ordered['Name'] = ordered.index\n",
        "  return ordered['Name'].iloc[0]\n",
        "\n",
        "answer_two()"
      ],
      "execution_count": 0,
      "outputs": []
    },
    {
      "cell_type": "markdown",
      "metadata": {
        "id": "jqbfUDCjVxHA",
        "colab_type": "text"
      },
      "source": [
        "### Question 3\n",
        "Which country has the biggest difference between their summer gold medal counts and winter gold medal counts relative to their total gold medal count? \n",
        "\n",
        "$$\\frac{Summer~Gold - Winter~Gold}{Total~Gold}$$\n",
        "\n",
        "Only include countries that have won at least 1 gold in both summer and winter.\n",
        "\n",
        "*This function should return a single string value.*"
      ]
    },
    {
      "cell_type": "code",
      "metadata": {
        "umich_part_id": "003",
        "umich_partlist_id": "001",
        "id": "aLS9ttW_VxHD",
        "colab_type": "code",
        "colab": {}
      },
      "source": [
        "def answer_three():\n",
        "  #Get only elements with Gold > 0 and delete others\n",
        "  filtered = df.where(df['Gold'] > 0)\n",
        "  filtered = filtered.dropna()\n",
        "  #Get only elements with Gold.1 > 0 and delete others\n",
        "  filtered = filtered.where(filtered['Gold.1'] > 0)\n",
        "  filtered = filtered.dropna()\n",
        "  #Do the opreation of three columns\n",
        "  filtered['Difference'] = ((filtered['Gold'] - filtered['Gold.1']).abs())/filtered['Gold.2']\n",
        "  #Sort the df and get the first element\n",
        "  ordered = filtered.sort('Difference',ascending=False)\n",
        "  ordered['Name'] = ordered.index\n",
        "  return ordered['Name'].iloc[0]\n",
        "\n",
        "answer_three()"
      ],
      "execution_count": 0,
      "outputs": []
    },
    {
      "cell_type": "markdown",
      "metadata": {
        "id": "Xl07UddoVxHQ",
        "colab_type": "text"
      },
      "source": [
        "### Question 4\n",
        "Write a function that creates a Series called \"Points\" which is a weighted value where each gold medal (`Gold.2`) counts for 3 points, silver medals (`Silver.2`) for 2 points, and bronze medals (`Bronze.2`) for 1 point. The function should return only the column (a Series object) which you created, with the country names as indices.\n",
        "\n",
        "*This function should return a Series named `Points` of length 146*"
      ]
    },
    {
      "cell_type": "code",
      "metadata": {
        "umich_part_id": "004",
        "umich_partlist_id": "001",
        "id": "8Ys8SKKFVxHR",
        "colab_type": "code",
        "colab": {}
      },
      "source": [
        "def answer_four():\n",
        "    Points = []\n",
        "    values = []\n",
        "    indexes = []\n",
        "    #Generate the 2 lists to build the final Series\n",
        "    for index, row in df.iterrows():\n",
        "        values.append((row['Gold.2'] * 3) + (row['Silver.2'] * 2) + (row['Bronze.2'] * 1))\n",
        "        indexes.append(index)\n",
        "\n",
        "    #Build the Series based on 2 list\n",
        "    Points = pd.Series(values,index=indexes)\n",
        "    return Points\n",
        "\n",
        "answer_four()"
      ],
      "execution_count": 0,
      "outputs": []
    },
    {
      "cell_type": "markdown",
      "metadata": {
        "id": "9WlG9jKxVxHd",
        "colab_type": "text"
      },
      "source": [
        "## Part 2\n",
        "For the next set of questions, we will be using census data from the [United States Census Bureau](http://www.census.gov). Counties are political and geographic subdivisions of states in the United States. This dataset contains population data for counties and states in the US from 2010 to 2015. [See this document](https://www2.census.gov/programs-surveys/popest/technical-documentation/file-layouts/2010-2015/co-est2015-alldata.pdf) for a description of the variable names.\n",
        "\n",
        "The census dataset (census.csv) should be loaded as census_df. Answer questions using this as appropriate.\n",
        "\n",
        "### Question 5\n",
        "Which state has the most counties in it? (hint: consider the sumlevel key carefully! You'll need this for future questions too...)\n",
        "\n",
        "*This function should return a single string value.*"
      ]
    },
    {
      "cell_type": "code",
      "metadata": {
        "umich_question": "prolog-005",
        "id": "YA-0bvNgVxHg",
        "colab_type": "code",
        "colab": {}
      },
      "source": [
        "census_df = pd.read_csv('census.csv')\n",
        "census_df.head()"
      ],
      "execution_count": 0,
      "outputs": []
    },
    {
      "cell_type": "code",
      "metadata": {
        "umich_part_id": "005",
        "umich_partlist_id": "002",
        "id": "9TAx7Pe_VxHq",
        "colab_type": "code",
        "colab": {}
      },
      "source": [
        "def answer_five():\n",
        "  #Get only necessary columns\n",
        "  keep = ['STATE', 'COUNTY', 'STNAME']\n",
        "  filtered = census_df[keep]\n",
        "  #Get unique values\n",
        "  unique_states = census_df['STATE'].unique()\n",
        "  indexes = []\n",
        "  values = []\n",
        "  #Generate lists to build final Series\n",
        "  for index in unique_states:\n",
        "    aux = filtered.where(filtered['STATE'] == index)\n",
        "    aux = aux.dropna()\n",
        "    indexes.append(aux.iloc[0]['STNAME'])\n",
        "    values.append(aux.shape[0])\n",
        "\n",
        "  series = pd.Series(values,index=indexes)   \n",
        "  #Sort the series and get the first element\n",
        "  ordered = series.sort_values(ascending=False)\n",
        "  return ordered.index.values[0]\n",
        "\n",
        "\n",
        "answer_five()"
      ],
      "execution_count": 0,
      "outputs": []
    },
    {
      "cell_type": "markdown",
      "metadata": {
        "id": "hxcm4WWSVxHz",
        "colab_type": "text"
      },
      "source": [
        "### Question 6\n",
        "**Only looking at the three most populous counties for each state**, what are the three most populous states (in order of highest population to lowest population)? Use `CENSUS2010POP`.\n",
        "\n",
        "*This function should return a list of string values.*"
      ]
    },
    {
      "cell_type": "code",
      "metadata": {
        "umich_part_id": "006",
        "umich_partlist_id": "002",
        "id": "BdoV-fo1VxH2",
        "colab_type": "code",
        "colab": {}
      },
      "source": [
        "def answer_six():\n",
        "  #Get only necessary columns\n",
        "  keep = ['STNAME', 'CTYNAME', 'SUMLEV', 'CENSUS2010POP']\n",
        "  kept = census_df[keep]\n",
        "  \n",
        "  #Get only data with SUMLEV = 50 and drop others\n",
        "  filtered = kept[kept['SUMLEV'] == 50]\n",
        "  filtered = filtered.dropna()\n",
        "  \n",
        "  #Sort new dataframe\n",
        "  filtered = filtered.sort(['STNAME','CENSUS2010POP'],ascending=[1,0])\n",
        "  #Get unique STANME\n",
        "  unique_stname = filtered['STNAME'].unique()\n",
        "  values = []\n",
        "  indexes = []\n",
        "  #Genereate 2 list to build final Series\n",
        "  for index in unique_stname:\n",
        "    #Get only data STNAME = index and drop others\n",
        "    counties = filtered.where(filtered['STNAME'] == index)\n",
        "    counties = counties.dropna()\n",
        "    max_counties = counties[:3]\n",
        "    indexes.append(index)\n",
        "    values.append(max_counties['CENSUS2010POP'].sum())\n",
        "\n",
        "  #Build the final series and sort it\n",
        "  series = pd.Series(values,index=indexes) \n",
        "  ordered = series.sort_values(ascending=False)\n",
        "  \n",
        "  #Get the final results and bild a tuple to return\n",
        "  final_series = ordered[:3]\n",
        "  final_indexes = final_series.index\n",
        "  final_indexes = [final_indexes[0], final_indexes[1], final_indexes[2]]\n",
        "  return final_indexes\n",
        "\n",
        "answer_six()"
      ],
      "execution_count": 0,
      "outputs": []
    },
    {
      "cell_type": "markdown",
      "metadata": {
        "id": "RKstBE89VxIA",
        "colab_type": "text"
      },
      "source": [
        "### Question 7\n",
        "Which county has had the largest absolute change in population within the period 2010-2015? (Hint: population values are stored in columns POPESTIMATE2010 through POPESTIMATE2015, you need to consider all six columns.)\n",
        "\n",
        "e.g. If County Population in the 5 year period is 100, 120, 80, 105, 100, 130, then its largest change in the period would be |130-80| = 50.\n",
        "\n",
        "*This function should return a single string value.*"
      ]
    },
    {
      "cell_type": "code",
      "metadata": {
        "umich_part_id": "007",
        "umich_partlist_id": "002",
        "id": "6nQt2oUpVxIB",
        "colab_type": "code",
        "colab": {}
      },
      "source": [
        "import numpy as np\n",
        "\n",
        "def answer_seven():\n",
        "  #Get only necessary columns\n",
        "  keep = ['STNAME', 'SUMLEV', 'STATE', 'COUNTY', 'STNAME', 'CTYNAME', 'POPESTIMATE2010', 'POPESTIMATE2011', 'POPESTIMATE2012', 'POPESTIMATE2013', \n",
        "            'POPESTIMATE2014', 'POPESTIMATE2015']\n",
        "  kept = census_df[keep]\n",
        "  #Get only data with SUMLEV = 50 and drop others\n",
        "  filtered = kept[kept['SUMLEV'] == 50]\n",
        "  filtered = filtered.dropna()\n",
        "  \n",
        "  indexes = []\n",
        "  values = []\n",
        "  #Genereate 2 list to build final Series\n",
        "  for index, row in filtered.iterrows():\n",
        "    aux = [row['POPESTIMATE2010'],row['POPESTIMATE2011'],row['POPESTIMATE2012'],row['POPESTIMATE2013'],row['POPESTIMATE2014'],row['POPESTIMATE2015']]\n",
        "    max = np.amax(aux)\n",
        "    min = np.amin(aux)\n",
        "    indexes.append(row['CTYNAME'])\n",
        "    values.append(abs(max-min))\n",
        "\n",
        "  #Build the final series and sort it\n",
        "  change_series = pd.Series(values, index=indexes)\n",
        "  ordered = change_series.sort_values(ascending=False)\n",
        "  return ordered.index.values[0]\n",
        "\n",
        "answer_seven()\n",
        "\n"
      ],
      "execution_count": 0,
      "outputs": []
    },
    {
      "cell_type": "markdown",
      "metadata": {
        "id": "NSDY0zXtVxIJ",
        "colab_type": "text"
      },
      "source": [
        "### Question 8\n",
        "In this datafile, the United States is broken up into four regions using the \"REGION\" column. \n",
        "\n",
        "Create a query that finds the counties that belong to regions 1 or 2, whose name starts with 'Washington', and whose POPESTIMATE2015 was greater than their POPESTIMATE 2014.\n",
        "\n",
        "*This function should return a 5x2 DataFrame with the columns = ['STNAME', 'CTYNAME'] and the same index ID as the census_df (sorted ascending by index).*"
      ]
    },
    {
      "cell_type": "code",
      "metadata": {
        "umich_part_id": "008",
        "umich_partlist_id": "002",
        "id": "Ydhq2SFGVxIM",
        "colab_type": "code",
        "colab": {}
      },
      "source": [
        "def answer_eight():\n",
        "  #Get only necessary columns\n",
        "  keep = ['REGION', 'STNAME', 'CTYNAME', 'POPESTIMATE2015', 'POPESTIMATE2014']\n",
        "  filtered = census_df[keep]\n",
        "  \n",
        "  #Get only data with X and drop others\n",
        "  filtered = filtered.where(filtered[(filtered['REGION'] == 1) | (filtered['REGION'] == 2)])\n",
        "  filtered = filtered.dropna()\n",
        "  \n",
        "  #Get only data with X and drop others\n",
        "  filtered = filtered.where(filtered['POPESTIMATE2015'] > filtered['POPESTIMATE2014'])\n",
        "  filtered = filtered.dropna()\n",
        "  \n",
        "  #Get only data with X and drop others\n",
        "  filtered = filtered.where(filtered['CTYNAME'].str.startswith('Washington'))\n",
        "  filtered = filtered.dropna()\n",
        "  \n",
        "  #Get only necessary columns\n",
        "  keep = ['STNAME', 'CTYNAME']\n",
        "  filtered = filtered[keep]\n",
        "  \n",
        "  #Short df \n",
        "  filtered.sort()\n",
        "  return filtered.sort()\n",
        "\n",
        "answer_eight()"
      ],
      "execution_count": 0,
      "outputs": []
    }
  ]
}